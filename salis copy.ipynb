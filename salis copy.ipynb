{
 "cells": [
  {
   "cell_type": "code",
   "execution_count": 1,
   "id": "bac80e90",
   "metadata": {},
   "outputs": [],
   "source": [
    "import pandas as pd\n",
    "import matplotlib.pyplot as plt\n",
    "import seaborn as sns"
   ]
  },
  {
   "cell_type": "code",
   "execution_count": 2,
   "id": "0cfcf324",
   "metadata": {},
   "outputs": [],
   "source": [
    "url = \"https://raw.githubusercontent.com/yannie28/Global-Superstore/master/Global_Superstore%28CSV%29.csv\"\n",
    "df = pd.read_csv(url, encoding='latin1')  # لو ظهر مشكل في الترميز جرب utf-8 أو latin1"
   ]
  },
  {
   "cell_type": "code",
   "execution_count": 3,
   "id": "a30d57fc",
   "metadata": {},
   "outputs": [
    {
     "data": {
      "text/plain": [
       "Index(['ï»¿Row ID', 'Order ID', 'Order Date', 'Ship Date', 'Ship Mode',\n",
       "       'Customer ID', 'Customer Name', 'Segment', 'Postal Code', 'City',\n",
       "       'State', 'Country', 'Region', 'Market', 'Product ID', 'Category',\n",
       "       'Sub-Category', 'Product Name', 'Sales', 'Quantity', 'Discount',\n",
       "       'Profit', 'Shipping Cost', 'Order Priority'],\n",
       "      dtype='object')"
      ]
     },
     "execution_count": 3,
     "metadata": {},
     "output_type": "execute_result"
    }
   ],
   "source": [
    "df.columns"
   ]
  },
  {
   "cell_type": "code",
   "execution_count": 4,
   "id": "b714f297",
   "metadata": {},
   "outputs": [],
   "source": [
    "df[\"Row ID\"]=df[\"ï»¿Row ID\"]"
   ]
  },
  {
   "cell_type": "code",
   "execution_count": 5,
   "id": "b7df6cfa",
   "metadata": {},
   "outputs": [
    {
     "data": {
      "text/plain": [
       "Index(['ï»¿Row ID', 'Order ID', 'Order Date', 'Ship Date', 'Ship Mode',\n",
       "       'Customer ID', 'Customer Name', 'Segment', 'Postal Code', 'City',\n",
       "       'State', 'Country', 'Region', 'Market', 'Product ID', 'Category',\n",
       "       'Sub-Category', 'Product Name', 'Sales', 'Quantity', 'Discount',\n",
       "       'Profit', 'Shipping Cost', 'Order Priority', 'Row ID'],\n",
       "      dtype='object')"
      ]
     },
     "execution_count": 5,
     "metadata": {},
     "output_type": "execute_result"
    }
   ],
   "source": [
    "df.columns"
   ]
  },
  {
   "cell_type": "code",
   "execution_count": 6,
   "id": "984f3a1f",
   "metadata": {},
   "outputs": [
    {
     "data": {
      "text/html": [
       "<div>\n",
       "<style scoped>\n",
       "    .dataframe tbody tr th:only-of-type {\n",
       "        vertical-align: middle;\n",
       "    }\n",
       "\n",
       "    .dataframe tbody tr th {\n",
       "        vertical-align: top;\n",
       "    }\n",
       "\n",
       "    .dataframe thead th {\n",
       "        text-align: right;\n",
       "    }\n",
       "</style>\n",
       "<table border=\"1\" class=\"dataframe\">\n",
       "  <thead>\n",
       "    <tr style=\"text-align: right;\">\n",
       "      <th></th>\n",
       "      <th>ï»¿Row ID</th>\n",
       "      <th>Order ID</th>\n",
       "      <th>Order Date</th>\n",
       "      <th>Ship Date</th>\n",
       "      <th>Ship Mode</th>\n",
       "      <th>Customer ID</th>\n",
       "      <th>Customer Name</th>\n",
       "      <th>Segment</th>\n",
       "      <th>Postal Code</th>\n",
       "      <th>City</th>\n",
       "      <th>...</th>\n",
       "      <th>Category</th>\n",
       "      <th>Sub-Category</th>\n",
       "      <th>Product Name</th>\n",
       "      <th>Sales</th>\n",
       "      <th>Quantity</th>\n",
       "      <th>Discount</th>\n",
       "      <th>Profit</th>\n",
       "      <th>Shipping Cost</th>\n",
       "      <th>Order Priority</th>\n",
       "      <th>Row ID</th>\n",
       "    </tr>\n",
       "  </thead>\n",
       "  <tbody>\n",
       "    <tr>\n",
       "      <th>0</th>\n",
       "      <td>40098</td>\n",
       "      <td>CA-2014-AB10015140-41954</td>\n",
       "      <td>11/11/2014</td>\n",
       "      <td>11/13/2014</td>\n",
       "      <td>First Class</td>\n",
       "      <td>AB-100151402</td>\n",
       "      <td>Aaron Bergman</td>\n",
       "      <td>Consumer</td>\n",
       "      <td>73120.0</td>\n",
       "      <td>Oklahoma City</td>\n",
       "      <td>...</td>\n",
       "      <td>Technology</td>\n",
       "      <td>Phones</td>\n",
       "      <td>Samsung Convoy 3</td>\n",
       "      <td>221.98</td>\n",
       "      <td>2</td>\n",
       "      <td>0.0</td>\n",
       "      <td>62.15</td>\n",
       "      <td>40.77</td>\n",
       "      <td>High</td>\n",
       "      <td>40098</td>\n",
       "    </tr>\n",
       "    <tr>\n",
       "      <th>1</th>\n",
       "      <td>26341</td>\n",
       "      <td>IN-2014-JR162107-41675</td>\n",
       "      <td>2/5/2014</td>\n",
       "      <td>2/7/2014</td>\n",
       "      <td>Second Class</td>\n",
       "      <td>JR-162107</td>\n",
       "      <td>Justin Ritter</td>\n",
       "      <td>Corporate</td>\n",
       "      <td>NaN</td>\n",
       "      <td>Wollongong</td>\n",
       "      <td>...</td>\n",
       "      <td>Furniture</td>\n",
       "      <td>Chairs</td>\n",
       "      <td>Novimex Executive Leather Armchair, Black</td>\n",
       "      <td>3709.40</td>\n",
       "      <td>9</td>\n",
       "      <td>0.1</td>\n",
       "      <td>-288.77</td>\n",
       "      <td>923.63</td>\n",
       "      <td>Critical</td>\n",
       "      <td>26341</td>\n",
       "    </tr>\n",
       "  </tbody>\n",
       "</table>\n",
       "<p>2 rows × 25 columns</p>\n",
       "</div>"
      ],
      "text/plain": [
       "   ï»¿Row ID                  Order ID  Order Date   Ship Date     Ship Mode  \\\n",
       "0      40098  CA-2014-AB10015140-41954  11/11/2014  11/13/2014   First Class   \n",
       "1      26341    IN-2014-JR162107-41675    2/5/2014    2/7/2014  Second Class   \n",
       "\n",
       "    Customer ID  Customer Name    Segment  Postal Code           City  ...  \\\n",
       "0  AB-100151402  Aaron Bergman   Consumer      73120.0  Oklahoma City  ...   \n",
       "1     JR-162107  Justin Ritter  Corporate          NaN     Wollongong  ...   \n",
       "\n",
       "     Category Sub-Category                               Product Name  \\\n",
       "0  Technology       Phones                           Samsung Convoy 3   \n",
       "1   Furniture       Chairs  Novimex Executive Leather Armchair, Black   \n",
       "\n",
       "     Sales Quantity Discount  Profit Shipping Cost  Order Priority  Row ID  \n",
       "0   221.98        2      0.0   62.15         40.77            High   40098  \n",
       "1  3709.40        9      0.1 -288.77        923.63        Critical   26341  \n",
       "\n",
       "[2 rows x 25 columns]"
      ]
     },
     "execution_count": 6,
     "metadata": {},
     "output_type": "execute_result"
    }
   ],
   "source": [
    "df.head(2)"
   ]
  },
  {
   "cell_type": "code",
   "execution_count": 7,
   "id": "24a5f7bc",
   "metadata": {},
   "outputs": [],
   "source": [
    "df.drop(\"ï»¿Row ID\", axis=1, inplace=True)"
   ]
  },
  {
   "cell_type": "code",
   "execution_count": 8,
   "id": "1bd33967",
   "metadata": {},
   "outputs": [
    {
     "data": {
      "text/html": [
       "<div>\n",
       "<style scoped>\n",
       "    .dataframe tbody tr th:only-of-type {\n",
       "        vertical-align: middle;\n",
       "    }\n",
       "\n",
       "    .dataframe tbody tr th {\n",
       "        vertical-align: top;\n",
       "    }\n",
       "\n",
       "    .dataframe thead th {\n",
       "        text-align: right;\n",
       "    }\n",
       "</style>\n",
       "<table border=\"1\" class=\"dataframe\">\n",
       "  <thead>\n",
       "    <tr style=\"text-align: right;\">\n",
       "      <th></th>\n",
       "      <th>Order ID</th>\n",
       "      <th>Order Date</th>\n",
       "      <th>Ship Date</th>\n",
       "      <th>Ship Mode</th>\n",
       "      <th>Customer ID</th>\n",
       "      <th>Customer Name</th>\n",
       "      <th>Segment</th>\n",
       "      <th>Postal Code</th>\n",
       "      <th>City</th>\n",
       "      <th>State</th>\n",
       "      <th>...</th>\n",
       "      <th>Category</th>\n",
       "      <th>Sub-Category</th>\n",
       "      <th>Product Name</th>\n",
       "      <th>Sales</th>\n",
       "      <th>Quantity</th>\n",
       "      <th>Discount</th>\n",
       "      <th>Profit</th>\n",
       "      <th>Shipping Cost</th>\n",
       "      <th>Order Priority</th>\n",
       "      <th>Row ID</th>\n",
       "    </tr>\n",
       "  </thead>\n",
       "  <tbody>\n",
       "    <tr>\n",
       "      <th>0</th>\n",
       "      <td>CA-2014-AB10015140-41954</td>\n",
       "      <td>11/11/2014</td>\n",
       "      <td>11/13/2014</td>\n",
       "      <td>First Class</td>\n",
       "      <td>AB-100151402</td>\n",
       "      <td>Aaron Bergman</td>\n",
       "      <td>Consumer</td>\n",
       "      <td>73120.0</td>\n",
       "      <td>Oklahoma City</td>\n",
       "      <td>Oklahoma</td>\n",
       "      <td>...</td>\n",
       "      <td>Technology</td>\n",
       "      <td>Phones</td>\n",
       "      <td>Samsung Convoy 3</td>\n",
       "      <td>221.98</td>\n",
       "      <td>2</td>\n",
       "      <td>0.0</td>\n",
       "      <td>62.15</td>\n",
       "      <td>40.77</td>\n",
       "      <td>High</td>\n",
       "      <td>40098</td>\n",
       "    </tr>\n",
       "    <tr>\n",
       "      <th>1</th>\n",
       "      <td>IN-2014-JR162107-41675</td>\n",
       "      <td>2/5/2014</td>\n",
       "      <td>2/7/2014</td>\n",
       "      <td>Second Class</td>\n",
       "      <td>JR-162107</td>\n",
       "      <td>Justin Ritter</td>\n",
       "      <td>Corporate</td>\n",
       "      <td>NaN</td>\n",
       "      <td>Wollongong</td>\n",
       "      <td>New South Wales</td>\n",
       "      <td>...</td>\n",
       "      <td>Furniture</td>\n",
       "      <td>Chairs</td>\n",
       "      <td>Novimex Executive Leather Armchair, Black</td>\n",
       "      <td>3709.40</td>\n",
       "      <td>9</td>\n",
       "      <td>0.1</td>\n",
       "      <td>-288.77</td>\n",
       "      <td>923.63</td>\n",
       "      <td>Critical</td>\n",
       "      <td>26341</td>\n",
       "    </tr>\n",
       "  </tbody>\n",
       "</table>\n",
       "<p>2 rows × 24 columns</p>\n",
       "</div>"
      ],
      "text/plain": [
       "                   Order ID  Order Date   Ship Date     Ship Mode  \\\n",
       "0  CA-2014-AB10015140-41954  11/11/2014  11/13/2014   First Class   \n",
       "1    IN-2014-JR162107-41675    2/5/2014    2/7/2014  Second Class   \n",
       "\n",
       "    Customer ID  Customer Name    Segment  Postal Code           City  \\\n",
       "0  AB-100151402  Aaron Bergman   Consumer      73120.0  Oklahoma City   \n",
       "1     JR-162107  Justin Ritter  Corporate          NaN     Wollongong   \n",
       "\n",
       "             State  ...    Category Sub-Category  \\\n",
       "0         Oklahoma  ...  Technology       Phones   \n",
       "1  New South Wales  ...   Furniture       Chairs   \n",
       "\n",
       "                                Product Name    Sales Quantity Discount  \\\n",
       "0                           Samsung Convoy 3   221.98        2      0.0   \n",
       "1  Novimex Executive Leather Armchair, Black  3709.40        9      0.1   \n",
       "\n",
       "   Profit  Shipping Cost  Order Priority  Row ID  \n",
       "0   62.15          40.77            High   40098  \n",
       "1 -288.77         923.63        Critical   26341  \n",
       "\n",
       "[2 rows x 24 columns]"
      ]
     },
     "execution_count": 8,
     "metadata": {},
     "output_type": "execute_result"
    }
   ],
   "source": [
    "df.head(2)"
   ]
  },
  {
   "cell_type": "code",
   "execution_count": 9,
   "id": "04b83c00",
   "metadata": {},
   "outputs": [
    {
     "data": {
      "text/plain": [
       "Index(['Order ID', 'Order Date', 'Ship Date', 'Ship Mode', 'Customer ID',\n",
       "       'Customer Name', 'Segment', 'Postal Code', 'City', 'State', 'Country',\n",
       "       'Region', 'Market', 'Product ID', 'Category', 'Sub-Category',\n",
       "       'Product Name', 'Sales', 'Quantity', 'Discount', 'Profit',\n",
       "       'Shipping Cost', 'Order Priority', 'Row ID'],\n",
       "      dtype='object')"
      ]
     },
     "execution_count": 9,
     "metadata": {},
     "output_type": "execute_result"
    }
   ],
   "source": [
    "df.columns"
   ]
  },
  {
   "cell_type": "code",
   "execution_count": 10,
   "id": "2ca976d1",
   "metadata": {},
   "outputs": [
    {
     "data": {
      "text/plain": [
       "Order ID            0\n",
       "Order Date          0\n",
       "Ship Date           0\n",
       "Ship Mode           0\n",
       "Customer ID         0\n",
       "Customer Name       0\n",
       "Segment             0\n",
       "Postal Code       806\n",
       "City                0\n",
       "State               0\n",
       "Country             0\n",
       "Region              0\n",
       "Market              0\n",
       "Product ID          0\n",
       "Category            0\n",
       "Sub-Category        0\n",
       "Product Name        0\n",
       "Sales               0\n",
       "Quantity            0\n",
       "Discount            0\n",
       "Profit              0\n",
       "Shipping Cost       0\n",
       "Order Priority      0\n",
       "Row ID              0\n",
       "dtype: int64"
      ]
     },
     "execution_count": 10,
     "metadata": {},
     "output_type": "execute_result"
    }
   ],
   "source": [
    "df.isnull().sum()"
   ]
  },
  {
   "cell_type": "code",
   "execution_count": 11,
   "id": "5a1a6c4c",
   "metadata": {},
   "outputs": [],
   "source": [
    "## لاحظت ان الرمز البريدي ناقص كتير لاكن مش مهم مش هيأثر علي الداتا في التحليل"
   ]
  },
  {
   "cell_type": "code",
   "execution_count": 12,
   "id": "a1e58070",
   "metadata": {},
   "outputs": [
    {
     "name": "stdout",
     "output_type": "stream",
     "text": [
      "<class 'pandas.core.frame.DataFrame'>\n",
      "RangeIndex: 1000 entries, 0 to 999\n",
      "Data columns (total 24 columns):\n",
      " #   Column          Non-Null Count  Dtype  \n",
      "---  ------          --------------  -----  \n",
      " 0   Order ID        1000 non-null   object \n",
      " 1   Order Date      1000 non-null   object \n",
      " 2   Ship Date       1000 non-null   object \n",
      " 3   Ship Mode       1000 non-null   object \n",
      " 4   Customer ID     1000 non-null   object \n",
      " 5   Customer Name   1000 non-null   object \n",
      " 6   Segment         1000 non-null   object \n",
      " 7   Postal Code     194 non-null    float64\n",
      " 8   City            1000 non-null   object \n",
      " 9   State           1000 non-null   object \n",
      " 10  Country         1000 non-null   object \n",
      " 11  Region          1000 non-null   object \n",
      " 12  Market          1000 non-null   object \n",
      " 13  Product ID      1000 non-null   object \n",
      " 14  Category        1000 non-null   object \n",
      " 15  Sub-Category    1000 non-null   object \n",
      " 16  Product Name    1000 non-null   object \n",
      " 17  Sales           1000 non-null   float64\n",
      " 18  Quantity        1000 non-null   int64  \n",
      " 19  Discount        1000 non-null   float64\n",
      " 20  Profit          1000 non-null   float64\n",
      " 21  Shipping Cost   1000 non-null   float64\n",
      " 22  Order Priority  1000 non-null   object \n",
      " 23  Row ID          1000 non-null   int64  \n",
      "dtypes: float64(5), int64(2), object(17)\n",
      "memory usage: 187.6+ KB\n"
     ]
    }
   ],
   "source": [
    "df.info()"
   ]
  },
  {
   "cell_type": "code",
   "execution_count": 13,
   "id": "64ffc28e",
   "metadata": {},
   "outputs": [
    {
     "data": {
      "text/plain": [
       "0      11/11/2014\n",
       "1        2/5/2014\n",
       "2      10/17/2014\n",
       "3       1/28/2014\n",
       "4       11/5/2014\n",
       "          ...    \n",
       "995      4/1/2015\n",
       "996     12/9/2015\n",
       "997    10/17/2014\n",
       "998     1/19/2014\n",
       "999    12/10/2015\n",
       "Name: Order Date, Length: 1000, dtype: object"
      ]
     },
     "execution_count": 13,
     "metadata": {},
     "output_type": "execute_result"
    }
   ],
   "source": [
    "df[\"Order Date\"]"
   ]
  },
  {
   "cell_type": "code",
   "execution_count": 14,
   "id": "bda7b586",
   "metadata": {},
   "outputs": [
    {
     "data": {
      "text/plain": [
       "0      11/13/2014\n",
       "1        2/7/2014\n",
       "2      10/18/2014\n",
       "3       1/30/2014\n",
       "4       11/6/2014\n",
       "          ...    \n",
       "995      4/5/2015\n",
       "996    12/13/2015\n",
       "997    10/19/2014\n",
       "998     1/26/2014\n",
       "999    12/14/2015\n",
       "Name: Ship Date, Length: 1000, dtype: object"
      ]
     },
     "execution_count": 14,
     "metadata": {},
     "output_type": "execute_result"
    }
   ],
   "source": [
    "df[\"Ship Date\"]"
   ]
  },
  {
   "cell_type": "code",
   "execution_count": 15,
   "id": "1c036025",
   "metadata": {},
   "outputs": [],
   "source": [
    "# الخطوة 1: تحويل العمود لتاريخ\n",
    "df[\"Order Date\"] = pd.to_datetime(df[\"Order Date\"], errors='coerce')\n",
    "# الخطوة 2: استخراج رقم الشهر\n",
    "df[\"month Order Date\"] = df[\"Order Date\"].dt.month\n"
   ]
  },
  {
   "cell_type": "code",
   "execution_count": 16,
   "id": "6957edfd",
   "metadata": {},
   "outputs": [],
   "source": [
    "# الخطوة 1: تحويل العمود لتاريخ\n",
    "df[\"Ship Date\"] = pd.to_datetime(df[\"Ship Date\"], errors='coerce')\n",
    "# الخطوة 2: استخراج رقم الشهر\n",
    "df[\"month Ship Date\"] = df[\"Ship Date\"].dt.month"
   ]
  },
  {
   "cell_type": "code",
   "execution_count": 17,
   "id": "772377e1",
   "metadata": {},
   "outputs": [],
   "source": [
    "df[\"day Ship Date\"] = df[\"Ship Date\"].dt.day"
   ]
  },
  {
   "cell_type": "code",
   "execution_count": 18,
   "id": "3449d2ca",
   "metadata": {},
   "outputs": [],
   "source": [
    "df[\"day Order Date\"] = df[\"Order Date\"].dt.day"
   ]
  },
  {
   "cell_type": "code",
   "execution_count": 19,
   "id": "f5e1d61e",
   "metadata": {},
   "outputs": [
    {
     "data": {
      "text/html": [
       "<div>\n",
       "<style scoped>\n",
       "    .dataframe tbody tr th:only-of-type {\n",
       "        vertical-align: middle;\n",
       "    }\n",
       "\n",
       "    .dataframe tbody tr th {\n",
       "        vertical-align: top;\n",
       "    }\n",
       "\n",
       "    .dataframe thead th {\n",
       "        text-align: right;\n",
       "    }\n",
       "</style>\n",
       "<table border=\"1\" class=\"dataframe\">\n",
       "  <thead>\n",
       "    <tr style=\"text-align: right;\">\n",
       "      <th></th>\n",
       "      <th>Order ID</th>\n",
       "      <th>Order Date</th>\n",
       "      <th>Ship Date</th>\n",
       "      <th>Ship Mode</th>\n",
       "      <th>Customer ID</th>\n",
       "      <th>Customer Name</th>\n",
       "      <th>Segment</th>\n",
       "      <th>Postal Code</th>\n",
       "      <th>City</th>\n",
       "      <th>State</th>\n",
       "      <th>...</th>\n",
       "      <th>Quantity</th>\n",
       "      <th>Discount</th>\n",
       "      <th>Profit</th>\n",
       "      <th>Shipping Cost</th>\n",
       "      <th>Order Priority</th>\n",
       "      <th>Row ID</th>\n",
       "      <th>month Order Date</th>\n",
       "      <th>month Ship Date</th>\n",
       "      <th>day Ship Date</th>\n",
       "      <th>day Order Date</th>\n",
       "    </tr>\n",
       "  </thead>\n",
       "  <tbody>\n",
       "    <tr>\n",
       "      <th>0</th>\n",
       "      <td>CA-2014-AB10015140-41954</td>\n",
       "      <td>2014-11-11</td>\n",
       "      <td>2014-11-13</td>\n",
       "      <td>First Class</td>\n",
       "      <td>AB-100151402</td>\n",
       "      <td>Aaron Bergman</td>\n",
       "      <td>Consumer</td>\n",
       "      <td>73120.0</td>\n",
       "      <td>Oklahoma City</td>\n",
       "      <td>Oklahoma</td>\n",
       "      <td>...</td>\n",
       "      <td>2</td>\n",
       "      <td>0.0</td>\n",
       "      <td>62.15</td>\n",
       "      <td>40.77</td>\n",
       "      <td>High</td>\n",
       "      <td>40098</td>\n",
       "      <td>11</td>\n",
       "      <td>11</td>\n",
       "      <td>13</td>\n",
       "      <td>11</td>\n",
       "    </tr>\n",
       "    <tr>\n",
       "      <th>1</th>\n",
       "      <td>IN-2014-JR162107-41675</td>\n",
       "      <td>2014-02-05</td>\n",
       "      <td>2014-02-07</td>\n",
       "      <td>Second Class</td>\n",
       "      <td>JR-162107</td>\n",
       "      <td>Justin Ritter</td>\n",
       "      <td>Corporate</td>\n",
       "      <td>NaN</td>\n",
       "      <td>Wollongong</td>\n",
       "      <td>New South Wales</td>\n",
       "      <td>...</td>\n",
       "      <td>9</td>\n",
       "      <td>0.1</td>\n",
       "      <td>-288.77</td>\n",
       "      <td>923.63</td>\n",
       "      <td>Critical</td>\n",
       "      <td>26341</td>\n",
       "      <td>2</td>\n",
       "      <td>2</td>\n",
       "      <td>7</td>\n",
       "      <td>5</td>\n",
       "    </tr>\n",
       "  </tbody>\n",
       "</table>\n",
       "<p>2 rows × 28 columns</p>\n",
       "</div>"
      ],
      "text/plain": [
       "                   Order ID Order Date  Ship Date     Ship Mode   Customer ID  \\\n",
       "0  CA-2014-AB10015140-41954 2014-11-11 2014-11-13   First Class  AB-100151402   \n",
       "1    IN-2014-JR162107-41675 2014-02-05 2014-02-07  Second Class     JR-162107   \n",
       "\n",
       "   Customer Name    Segment  Postal Code           City            State  ...  \\\n",
       "0  Aaron Bergman   Consumer      73120.0  Oklahoma City         Oklahoma  ...   \n",
       "1  Justin Ritter  Corporate          NaN     Wollongong  New South Wales  ...   \n",
       "\n",
       "  Quantity Discount  Profit Shipping Cost Order Priority Row ID  \\\n",
       "0        2      0.0   62.15         40.77           High  40098   \n",
       "1        9      0.1 -288.77        923.63       Critical  26341   \n",
       "\n",
       "  month Order Date  month Ship Date  day Ship Date  day Order Date  \n",
       "0               11               11             13              11  \n",
       "1                2                2              7               5  \n",
       "\n",
       "[2 rows x 28 columns]"
      ]
     },
     "execution_count": 19,
     "metadata": {},
     "output_type": "execute_result"
    }
   ],
   "source": [
    "df.head(2)"
   ]
  },
  {
   "cell_type": "code",
   "execution_count": 20,
   "id": "6a928f6e",
   "metadata": {},
   "outputs": [
    {
     "data": {
      "text/plain": [
       "np.float64(1710.97147)"
      ]
     },
     "execution_count": 20,
     "metadata": {},
     "output_type": "execute_result"
    }
   ],
   "source": [
    "df[\"Sales\"].mean()"
   ]
  },
  {
   "cell_type": "code",
   "execution_count": 21,
   "id": "8d93701a",
   "metadata": {},
   "outputs": [
    {
     "data": {
      "text/plain": [
       "np.float64(1710971.47)"
      ]
     },
     "execution_count": 21,
     "metadata": {},
     "output_type": "execute_result"
    }
   ],
   "source": [
    "df[\"Sales\"].sum()"
   ]
  },
  {
   "cell_type": "code",
   "execution_count": 22,
   "id": "2ffc0a5f",
   "metadata": {},
   "outputs": [
    {
     "data": {
      "text/plain": [
       "np.int64(5558)"
      ]
     },
     "execution_count": 22,
     "metadata": {},
     "output_type": "execute_result"
    }
   ],
   "source": [
    "df[\"Quantity\"].sum()"
   ]
  },
  {
   "cell_type": "code",
   "execution_count": 23,
   "id": "e62612e2",
   "metadata": {},
   "outputs": [
    {
     "data": {
      "text/plain": [
       "np.float64(288920.44000000006)"
      ]
     },
     "execution_count": 23,
     "metadata": {},
     "output_type": "execute_result"
    }
   ],
   "source": [
    "df[\"Profit\"].sum()"
   ]
  },
  {
   "cell_type": "code",
   "execution_count": 24,
   "id": "2d45487d",
   "metadata": {},
   "outputs": [
    {
     "data": {
      "text/plain": [
       "np.float64(272.384897)"
      ]
     },
     "execution_count": 24,
     "metadata": {},
     "output_type": "execute_result"
    }
   ],
   "source": [
    "df[\"Shipping Cost\"].mean()"
   ]
  },
  {
   "cell_type": "code",
   "execution_count": 25,
   "id": "3913c11c",
   "metadata": {},
   "outputs": [],
   "source": [
    "df[\"Shipping Time\"]=df[\"day Ship Date\"]-df[\"day Order Date\"]"
   ]
  },
  {
   "cell_type": "code",
   "execution_count": 26,
   "id": "eacd89ce",
   "metadata": {},
   "outputs": [
    {
     "data": {
      "text/plain": [
       "np.float64(0.037)"
      ]
     },
     "execution_count": 26,
     "metadata": {},
     "output_type": "execute_result"
    }
   ],
   "source": [
    "df[\"Shipping Time\"].mean()"
   ]
  },
  {
   "cell_type": "code",
   "execution_count": 27,
   "id": "70bf6c27",
   "metadata": {},
   "outputs": [
    {
     "data": {
      "text/plain": [
       "Index(['Order ID', 'Order Date', 'Ship Date', 'Ship Mode', 'Customer ID',\n",
       "       'Customer Name', 'Segment', 'Postal Code', 'City', 'State', 'Country',\n",
       "       'Region', 'Market', 'Product ID', 'Category', 'Sub-Category',\n",
       "       'Product Name', 'Sales', 'Quantity', 'Discount', 'Profit',\n",
       "       'Shipping Cost', 'Order Priority', 'Row ID', 'month Order Date',\n",
       "       'month Ship Date', 'day Ship Date', 'day Order Date', 'Shipping Time'],\n",
       "      dtype='object')"
      ]
     },
     "execution_count": 27,
     "metadata": {},
     "output_type": "execute_result"
    }
   ],
   "source": [
    "df.columns"
   ]
  },
  {
   "cell_type": "code",
   "execution_count": 28,
   "id": "2d425fd0",
   "metadata": {},
   "outputs": [],
   "source": [
    "to_product=df.groupby(\"Product ID\")[\"Sales\"].sum().sort_values(ascending=False).head()"
   ]
  },
  {
   "cell_type": "code",
   "execution_count": 29,
   "id": "39282664",
   "metadata": {},
   "outputs": [
    {
     "data": {
      "text/plain": [
       "Category\n",
       "Technology         756983.02\n",
       "Furniture          601492.31\n",
       "Office Supplies    352496.14\n",
       "Name: Sales, dtype: float64"
      ]
     },
     "execution_count": 29,
     "metadata": {},
     "output_type": "execute_result"
    }
   ],
   "source": [
    "df.groupby(\"Category\")[\"Sales\"].sum().sort_values(ascending=False).head()"
   ]
  },
  {
   "cell_type": "code",
   "execution_count": 30,
   "id": "cf6ecfb4",
   "metadata": {},
   "outputs": [
    {
     "data": {
      "text/plain": [
       "Sub-Category\n",
       "Phones        417939.31\n",
       "Appliances    289711.30\n",
       "Bookcases     240688.73\n",
       "Copiers       231104.67\n",
       "Chairs        179648.44\n",
       "Name: Sales, dtype: float64"
      ]
     },
     "execution_count": 30,
     "metadata": {},
     "output_type": "execute_result"
    }
   ],
   "source": [
    "df.groupby(\"Sub-Category\")[\"Sales\"].sum().sort_values(ascending=False).head()"
   ]
  },
  {
   "cell_type": "code",
   "execution_count": 31,
   "id": "f6ff8e48",
   "metadata": {},
   "outputs": [
    {
     "data": {
      "text/plain": [
       "Customer ID\n",
       "AB-101051402    12181.60\n",
       "CA-1277558       9298.98\n",
       "FH-1436582       8999.06\n",
       "VG-2180558       8539.41\n",
       "BF-1100558       8141.07\n",
       "Name: Sales, dtype: float64"
      ]
     },
     "execution_count": 31,
     "metadata": {},
     "output_type": "execute_result"
    }
   ],
   "source": [
    "df.groupby(\"Customer ID\")[\"Sales\"].sum().sort_values(ascending=False).head()"
   ]
  },
  {
   "cell_type": "code",
   "execution_count": 32,
   "id": "c8c23978",
   "metadata": {},
   "outputs": [
    {
     "data": {
      "text/plain": [
       "Customer ID\n",
       "AS-100901406    12\n",
       "AB-101051402    11\n",
       "AS-100901402    11\n",
       "AH-100751406    10\n",
       "AH-101201404    10\n",
       "Name: count, dtype: int64"
      ]
     },
     "execution_count": 32,
     "metadata": {},
     "output_type": "execute_result"
    }
   ],
   "source": [
    "df[\"Customer ID\"].value_counts().sort_values(ascending=False).head()"
   ]
  },
  {
   "cell_type": "code",
   "execution_count": 33,
   "id": "57670cd7",
   "metadata": {},
   "outputs": [
    {
     "data": {
      "text/plain": [
       "Country\n",
       "Australia    190368.52\n",
       "China        160494.10\n",
       "India        153805.65\n",
       "France       135114.76\n",
       "Germany       91884.49\n",
       "Name: Sales, dtype: float64"
      ]
     },
     "execution_count": 33,
     "metadata": {},
     "output_type": "execute_result"
    }
   ],
   "source": [
    "df.groupby(\"Country\")[\"Sales\"].sum().sort_values(ascending=False).head()"
   ]
  },
  {
   "cell_type": "code",
   "execution_count": 34,
   "id": "b0a2ad92",
   "metadata": {},
   "outputs": [
    {
     "data": {
      "text/plain": [
       "Customer ID\n",
       "AS-101351404     4.18\n",
       "AS-100901404    13.97\n",
       "AH-101951402    16.03\n",
       "AS-100901408    34.65\n",
       "AB-101651402    37.30\n",
       "Name: Sales, dtype: float64"
      ]
     },
     "execution_count": 34,
     "metadata": {},
     "output_type": "execute_result"
    }
   ],
   "source": [
    "df.groupby(\"Customer ID\")[\"Sales\"].sum().sort_values().head()"
   ]
  },
  {
   "cell_type": "code",
   "execution_count": 35,
   "id": "7281f621",
   "metadata": {},
   "outputs": [
    {
     "name": "stdout",
     "output_type": "stream",
     "text": [
      "معامل الارتباط بين تكلفة الشحن والربح: 0.2905929575848214\n"
     ]
    }
   ],
   "source": [
    "correlation = df['Shipping Cost'].corr(df['Profit'])\n",
    "print(f\"معامل الارتباط بين تكلفة الشحن والربح: {correlation}\")"
   ]
  },
  {
   "cell_type": "code",
   "execution_count": 36,
   "id": "4278ebfc",
   "metadata": {},
   "outputs": [
    {
     "data": {
      "image/png": "[encoded data removed]",
      "text/plain": [
       "<Figure size 800x500 with 1 Axes>"
      ]
     },
     "metadata": {},
     "output_type": "display_data"
    }
   ],
   "source": [
    "plt.figure(figsize=(8, 5))\n",
    "sns.scatterplot(x='Shipping Cost', y='Profit', data=df)\n",
    "plt.title('The impact of shipping costs on profits')\n",
    "plt.xlabel('Shipping Cost')\n",
    "plt.ylabel('Profit')\n",
    "plt.grid(True)\n",
    "plt.show()"
   ]
  },
  {
   "cell_type": "code",
   "execution_count": 37,
   "id": "6276401f",
   "metadata": {},
   "outputs": [
    {
     "data": {
      "text/html": [
       "<div>\n",
       "<style scoped>\n",
       "    .dataframe tbody tr th:only-of-type {\n",
       "        vertical-align: middle;\n",
       "    }\n",
       "\n",
       "    .dataframe tbody tr th {\n",
       "        vertical-align: top;\n",
       "    }\n",
       "\n",
       "    .dataframe thead th {\n",
       "        text-align: right;\n",
       "    }\n",
       "</style>\n",
       "<table border=\"1\" class=\"dataframe\">\n",
       "  <thead>\n",
       "    <tr style=\"text-align: right;\">\n",
       "      <th></th>\n",
       "      <th>Shipping Cost</th>\n",
       "      <th>Profit</th>\n",
       "    </tr>\n",
       "    <tr>\n",
       "      <th>Category</th>\n",
       "      <th></th>\n",
       "      <th></th>\n",
       "    </tr>\n",
       "  </thead>\n",
       "  <tbody>\n",
       "    <tr>\n",
       "      <th>Furniture</th>\n",
       "      <td>301.793399</td>\n",
       "      <td>252.113344</td>\n",
       "    </tr>\n",
       "    <tr>\n",
       "      <th>Office Supplies</th>\n",
       "      <td>188.948219</td>\n",
       "      <td>221.013656</td>\n",
       "    </tr>\n",
       "    <tr>\n",
       "      <th>Technology</th>\n",
       "      <td>307.047332</td>\n",
       "      <td>367.262481</td>\n",
       "    </tr>\n",
       "  </tbody>\n",
       "</table>\n",
       "</div>"
      ],
      "text/plain": [
       "                 Shipping Cost      Profit\n",
       "Category                                  \n",
       "Furniture           301.793399  252.113344\n",
       "Office Supplies     188.948219  221.013656\n",
       "Technology          307.047332  367.262481"
      ]
     },
     "execution_count": 37,
     "metadata": {},
     "output_type": "execute_result"
    }
   ],
   "source": [
    "df.groupby('Category')[['Shipping Cost', 'Profit']].mean()"
   ]
  },
  {
   "cell_type": "code",
   "execution_count": 38,
   "id": "dc4ced91",
   "metadata": {},
   "outputs": [
    {
     "data": {
      "text/html": [
       "<div>\n",
       "<style scoped>\n",
       "    .dataframe tbody tr th:only-of-type {\n",
       "        vertical-align: middle;\n",
       "    }\n",
       "\n",
       "    .dataframe tbody tr th {\n",
       "        vertical-align: top;\n",
       "    }\n",
       "\n",
       "    .dataframe thead th {\n",
       "        text-align: right;\n",
       "    }\n",
       "</style>\n",
       "<table border=\"1\" class=\"dataframe\">\n",
       "  <thead>\n",
       "    <tr style=\"text-align: right;\">\n",
       "      <th></th>\n",
       "      <th>Shipping Cost</th>\n",
       "      <th>Profit</th>\n",
       "    </tr>\n",
       "    <tr>\n",
       "      <th>Region</th>\n",
       "      <th></th>\n",
       "      <th></th>\n",
       "    </tr>\n",
       "  </thead>\n",
       "  <tbody>\n",
       "    <tr>\n",
       "      <th>Canada</th>\n",
       "      <td>15.748333</td>\n",
       "      <td>35.620000</td>\n",
       "    </tr>\n",
       "    <tr>\n",
       "      <th>Caribbean</th>\n",
       "      <td>284.876368</td>\n",
       "      <td>287.569474</td>\n",
       "    </tr>\n",
       "    <tr>\n",
       "      <th>Central Africa</th>\n",
       "      <td>354.385714</td>\n",
       "      <td>690.587143</td>\n",
       "    </tr>\n",
       "    <tr>\n",
       "      <th>Central America</th>\n",
       "      <td>311.560312</td>\n",
       "      <td>282.362987</td>\n",
       "    </tr>\n",
       "    <tr>\n",
       "      <th>Central US</th>\n",
       "      <td>25.610435</td>\n",
       "      <td>123.391739</td>\n",
       "    </tr>\n",
       "    <tr>\n",
       "      <th>Eastern Africa</th>\n",
       "      <td>386.960000</td>\n",
       "      <td>478.080000</td>\n",
       "    </tr>\n",
       "    <tr>\n",
       "      <th>Eastern Asia</th>\n",
       "      <td>332.489778</td>\n",
       "      <td>421.235111</td>\n",
       "    </tr>\n",
       "    <tr>\n",
       "      <th>Eastern Europe</th>\n",
       "      <td>336.306957</td>\n",
       "      <td>531.671739</td>\n",
       "    </tr>\n",
       "    <tr>\n",
       "      <th>Eastern US</th>\n",
       "      <td>21.746000</td>\n",
       "      <td>42.414833</td>\n",
       "    </tr>\n",
       "    <tr>\n",
       "      <th>North Africa</th>\n",
       "      <td>326.858333</td>\n",
       "      <td>618.035000</td>\n",
       "    </tr>\n",
       "    <tr>\n",
       "      <th>Northern Europe</th>\n",
       "      <td>313.136250</td>\n",
       "      <td>490.681875</td>\n",
       "    </tr>\n",
       "    <tr>\n",
       "      <th>Oceania</th>\n",
       "      <td>360.861900</td>\n",
       "      <td>337.775600</td>\n",
       "    </tr>\n",
       "    <tr>\n",
       "      <th>South America</th>\n",
       "      <td>316.207892</td>\n",
       "      <td>208.745405</td>\n",
       "    </tr>\n",
       "    <tr>\n",
       "      <th>Southeastern Asia</th>\n",
       "      <td>335.963429</td>\n",
       "      <td>150.882857</td>\n",
       "    </tr>\n",
       "    <tr>\n",
       "      <th>Southern Africa</th>\n",
       "      <td>325.571818</td>\n",
       "      <td>443.301818</td>\n",
       "    </tr>\n",
       "    <tr>\n",
       "      <th>Southern Asia</th>\n",
       "      <td>344.650805</td>\n",
       "      <td>431.455172</td>\n",
       "    </tr>\n",
       "    <tr>\n",
       "      <th>Southern Europe</th>\n",
       "      <td>315.240000</td>\n",
       "      <td>446.902174</td>\n",
       "    </tr>\n",
       "    <tr>\n",
       "      <th>Southern US</th>\n",
       "      <td>32.925769</td>\n",
       "      <td>53.258462</td>\n",
       "    </tr>\n",
       "    <tr>\n",
       "      <th>Western Africa</th>\n",
       "      <td>351.156250</td>\n",
       "      <td>159.771250</td>\n",
       "    </tr>\n",
       "    <tr>\n",
       "      <th>Western Asia</th>\n",
       "      <td>303.801111</td>\n",
       "      <td>292.352778</td>\n",
       "    </tr>\n",
       "    <tr>\n",
       "      <th>Western Europe</th>\n",
       "      <td>344.955267</td>\n",
       "      <td>250.254962</td>\n",
       "    </tr>\n",
       "    <tr>\n",
       "      <th>Western US</th>\n",
       "      <td>26.703226</td>\n",
       "      <td>39.650645</td>\n",
       "    </tr>\n",
       "  </tbody>\n",
       "</table>\n",
       "</div>"
      ],
      "text/plain": [
       "                   Shipping Cost      Profit\n",
       "Region                                      \n",
       "Canada                 15.748333   35.620000\n",
       "Caribbean             284.876368  287.569474\n",
       "Central Africa        354.385714  690.587143\n",
       "Central America       311.560312  282.362987\n",
       "Central US             25.610435  123.391739\n",
       "Eastern Africa        386.960000  478.080000\n",
       "Eastern Asia          332.489778  421.235111\n",
       "Eastern Europe        336.306957  531.671739\n",
       "Eastern US             21.746000   42.414833\n",
       "North Africa          326.858333  618.035000\n",
       "Northern Europe       313.136250  490.681875\n",
       "Oceania               360.861900  337.775600\n",
       "South America         316.207892  208.745405\n",
       "Southeastern Asia     335.963429  150.882857\n",
       "Southern Africa       325.571818  443.301818\n",
       "Southern Asia         344.650805  431.455172\n",
       "Southern Europe       315.240000  446.902174\n",
       "Southern US            32.925769   53.258462\n",
       "Western Africa        351.156250  159.771250\n",
       "Western Asia          303.801111  292.352778\n",
       "Western Europe        344.955267  250.254962\n",
       "Western US             26.703226   39.650645"
      ]
     },
     "execution_count": 38,
     "metadata": {},
     "output_type": "execute_result"
    }
   ],
   "source": [
    "df.groupby('Region')[['Shipping Cost', 'Profit']].mean()"
   ]
  },
  {
   "cell_type": "code",
   "execution_count": 39,
   "id": "69cb467b",
   "metadata": {},
   "outputs": [],
   "source": [
    "loss_products = df[df['Profit'] < 0].groupby('Product Name')[['Sales', 'Profit']].sum()\n",
    "loss_products = loss_products[loss_products['Sales'] > 1000].sort_values(by='Profit')\n"
   ]
  },
  {
   "cell_type": "code",
   "execution_count": 40,
   "id": "bac5fe4c",
   "metadata": {},
   "outputs": [],
   "source": [
    "loss_products.to_csv(\"loss_products.csv\")"
   ]
  },
  {
   "cell_type": "code",
   "execution_count": 41,
   "id": "b6aa4975",
   "metadata": {},
   "outputs": [],
   "source": [
    "top_customers = df.groupby('Customer Name')[['Sales', 'Profit']].sum().sort_values(by='Profit', ascending=False).head(10)"
   ]
  },
  {
   "cell_type": "code",
   "execution_count": 42,
   "id": "e40d8239",
   "metadata": {},
   "outputs": [],
   "source": [
    "top_customers.to_csv(\"top_customers.csv\")"
   ]
  },
  {
   "cell_type": "code",
   "execution_count": 43,
   "id": "3fa22971",
   "metadata": {},
   "outputs": [
    {
     "data": {
      "text/html": [
       "<div>\n",
       "<style scoped>\n",
       "    .dataframe tbody tr th:only-of-type {\n",
       "        vertical-align: middle;\n",
       "    }\n",
       "\n",
       "    .dataframe tbody tr th {\n",
       "        vertical-align: top;\n",
       "    }\n",
       "\n",
       "    .dataframe thead th {\n",
       "        text-align: right;\n",
       "    }\n",
       "</style>\n",
       "<table border=\"1\" class=\"dataframe\">\n",
       "  <thead>\n",
       "    <tr style=\"text-align: right;\">\n",
       "      <th></th>\n",
       "      <th>Sales</th>\n",
       "      <th>Profit</th>\n",
       "    </tr>\n",
       "    <tr>\n",
       "      <th>Segment</th>\n",
       "      <th></th>\n",
       "      <th></th>\n",
       "    </tr>\n",
       "  </thead>\n",
       "  <tbody>\n",
       "    <tr>\n",
       "      <th>Consumer</th>\n",
       "      <td>873512.42</td>\n",
       "      <td>158231.63</td>\n",
       "    </tr>\n",
       "    <tr>\n",
       "      <th>Corporate</th>\n",
       "      <td>524287.05</td>\n",
       "      <td>88901.38</td>\n",
       "    </tr>\n",
       "    <tr>\n",
       "      <th>Home Office</th>\n",
       "      <td>313172.00</td>\n",
       "      <td>41787.43</td>\n",
       "    </tr>\n",
       "  </tbody>\n",
       "</table>\n",
       "</div>"
      ],
      "text/plain": [
       "                 Sales     Profit\n",
       "Segment                          \n",
       "Consumer     873512.42  158231.63\n",
       "Corporate    524287.05   88901.38\n",
       "Home Office  313172.00   41787.43"
      ]
     },
     "execution_count": 43,
     "metadata": {},
     "output_type": "execute_result"
    }
   ],
   "source": [
    "df.groupby('Segment')[['Sales', 'Profit']].sum()"
   ]
  },
  {
   "cell_type": "code",
   "execution_count": 44,
   "id": "863c3095",
   "metadata": {},
   "outputs": [
    {
     "data": {
      "text/html": [
       "<div>\n",
       "<style scoped>\n",
       "    .dataframe tbody tr th:only-of-type {\n",
       "        vertical-align: middle;\n",
       "    }\n",
       "\n",
       "    .dataframe tbody tr th {\n",
       "        vertical-align: top;\n",
       "    }\n",
       "\n",
       "    .dataframe thead th {\n",
       "        text-align: right;\n",
       "    }\n",
       "</style>\n",
       "<table border=\"1\" class=\"dataframe\">\n",
       "  <thead>\n",
       "    <tr style=\"text-align: right;\">\n",
       "      <th></th>\n",
       "      <th>Sales</th>\n",
       "      <th>Profit</th>\n",
       "    </tr>\n",
       "    <tr>\n",
       "      <th>Region</th>\n",
       "      <th></th>\n",
       "      <th></th>\n",
       "    </tr>\n",
       "  </thead>\n",
       "  <tbody>\n",
       "    <tr>\n",
       "      <th>Canada</th>\n",
       "      <td>887.01</td>\n",
       "      <td>213.72</td>\n",
       "    </tr>\n",
       "    <tr>\n",
       "      <th>Western Africa</th>\n",
       "      <td>15478.79</td>\n",
       "      <td>1278.17</td>\n",
       "    </tr>\n",
       "    <tr>\n",
       "      <th>Southern US</th>\n",
       "      <td>8360.75</td>\n",
       "      <td>1384.72</td>\n",
       "    </tr>\n",
       "    <tr>\n",
       "      <th>Western US</th>\n",
       "      <td>16729.95</td>\n",
       "      <td>2458.34</td>\n",
       "    </tr>\n",
       "    <tr>\n",
       "      <th>Eastern US</th>\n",
       "      <td>12256.44</td>\n",
       "      <td>2544.89</td>\n",
       "    </tr>\n",
       "    <tr>\n",
       "      <th>Eastern Africa</th>\n",
       "      <td>17387.94</td>\n",
       "      <td>4302.72</td>\n",
       "    </tr>\n",
       "    <tr>\n",
       "      <th>Southern Africa</th>\n",
       "      <td>22262.28</td>\n",
       "      <td>4876.32</td>\n",
       "    </tr>\n",
       "    <tr>\n",
       "      <th>Western Asia</th>\n",
       "      <td>33308.21</td>\n",
       "      <td>5262.35</td>\n",
       "    </tr>\n",
       "    <tr>\n",
       "      <th>Caribbean</th>\n",
       "      <td>30746.74</td>\n",
       "      <td>5463.82</td>\n",
       "    </tr>\n",
       "    <tr>\n",
       "      <th>Central US</th>\n",
       "      <td>17187.94</td>\n",
       "      <td>5676.02</td>\n",
       "    </tr>\n",
       "    <tr>\n",
       "      <th>North Africa</th>\n",
       "      <td>26266.44</td>\n",
       "      <td>7416.42</td>\n",
       "    </tr>\n",
       "    <tr>\n",
       "      <th>South America</th>\n",
       "      <td>64550.54</td>\n",
       "      <td>7723.58</td>\n",
       "    </tr>\n",
       "    <tr>\n",
       "      <th>Central Africa</th>\n",
       "      <td>33810.48</td>\n",
       "      <td>9668.22</td>\n",
       "    </tr>\n",
       "    <tr>\n",
       "      <th>Southeastern Asia</th>\n",
       "      <td>147337.60</td>\n",
       "      <td>10561.80</td>\n",
       "    </tr>\n",
       "    <tr>\n",
       "      <th>Eastern Europe</th>\n",
       "      <td>45662.19</td>\n",
       "      <td>12228.45</td>\n",
       "    </tr>\n",
       "    <tr>\n",
       "      <th>Southern Europe</th>\n",
       "      <td>94441.11</td>\n",
       "      <td>20557.50</td>\n",
       "    </tr>\n",
       "    <tr>\n",
       "      <th>Central America</th>\n",
       "      <td>140966.21</td>\n",
       "      <td>21741.95</td>\n",
       "    </tr>\n",
       "    <tr>\n",
       "      <th>Northern Europe</th>\n",
       "      <td>103888.63</td>\n",
       "      <td>23552.73</td>\n",
       "    </tr>\n",
       "    <tr>\n",
       "      <th>Western Europe</th>\n",
       "      <td>259576.28</td>\n",
       "      <td>32783.40</td>\n",
       "    </tr>\n",
       "    <tr>\n",
       "      <th>Oceania</th>\n",
       "      <td>220809.08</td>\n",
       "      <td>33777.56</td>\n",
       "    </tr>\n",
       "    <tr>\n",
       "      <th>Southern Asia</th>\n",
       "      <td>205466.26</td>\n",
       "      <td>37536.60</td>\n",
       "    </tr>\n",
       "    <tr>\n",
       "      <th>Eastern Asia</th>\n",
       "      <td>193590.60</td>\n",
       "      <td>37911.16</td>\n",
       "    </tr>\n",
       "  </tbody>\n",
       "</table>\n",
       "</div>"
      ],
      "text/plain": [
       "                       Sales    Profit\n",
       "Region                                \n",
       "Canada                887.01    213.72\n",
       "Western Africa      15478.79   1278.17\n",
       "Southern US          8360.75   1384.72\n",
       "Western US          16729.95   2458.34\n",
       "Eastern US          12256.44   2544.89\n",
       "Eastern Africa      17387.94   4302.72\n",
       "Southern Africa     22262.28   4876.32\n",
       "Western Asia        33308.21   5262.35\n",
       "Caribbean           30746.74   5463.82\n",
       "Central US          17187.94   5676.02\n",
       "North Africa        26266.44   7416.42\n",
       "South America       64550.54   7723.58\n",
       "Central Africa      33810.48   9668.22\n",
       "Southeastern Asia  147337.60  10561.80\n",
       "Eastern Europe      45662.19  12228.45\n",
       "Southern Europe     94441.11  20557.50\n",
       "Central America    140966.21  21741.95\n",
       "Northern Europe    103888.63  23552.73\n",
       "Western Europe     259576.28  32783.40\n",
       "Oceania            220809.08  33777.56\n",
       "Southern Asia      205466.26  37536.60\n",
       "Eastern Asia       193590.60  37911.16"
      ]
     },
     "execution_count": 44,
     "metadata": {},
     "output_type": "execute_result"
    }
   ],
   "source": [
    "df.groupby('Region')[['Sales', 'Profit']].sum().sort_values(by='Profit')"
   ]
  },
  {
   "cell_type": "code",
   "execution_count": 45,
   "id": "acc1b8a7",
   "metadata": {},
   "outputs": [
    {
     "data": {
      "text/plain": [
       "<Axes: xlabel='Discount', ylabel='Profit'>"
      ]
     },
     "execution_count": 45,
     "metadata": {},
     "output_type": "execute_result"
    },
    {
     "data": {
      "image/png": "[encoded data removed]",
      "text/plain": [
       "<Figure size 640x480 with 1 Axes>"
      ]
     },
     "metadata": {},
     "output_type": "display_data"
    }
   ],
   "source": [
    "\n",
    "sns.scatterplot(data=df, x='Discount', y='Profit')\n"
   ]
  },
  {
   "cell_type": "code",
   "execution_count": 46,
   "id": "6d97fb54",
   "metadata": {},
   "outputs": [],
   "source": [
    "monthly_profit = df.groupby('month Order Date')['Profit'].sum()"
   ]
  },
  {
   "cell_type": "code",
   "execution_count": 47,
   "id": "e71452ae",
   "metadata": {},
   "outputs": [],
   "source": [
    "monthly_profit.to_csv(\"monthly_profit.csv\")"
   ]
  },
  {
   "cell_type": "code",
   "execution_count": 48,
   "id": "ff70f81e",
   "metadata": {},
   "outputs": [
    {
     "data": {
      "text/html": [
       "<div>\n",
       "<style scoped>\n",
       "    .dataframe tbody tr th:only-of-type {\n",
       "        vertical-align: middle;\n",
       "    }\n",
       "\n",
       "    .dataframe tbody tr th {\n",
       "        vertical-align: top;\n",
       "    }\n",
       "\n",
       "    .dataframe thead th {\n",
       "        text-align: right;\n",
       "    }\n",
       "</style>\n",
       "<table border=\"1\" class=\"dataframe\">\n",
       "  <thead>\n",
       "    <tr style=\"text-align: right;\">\n",
       "      <th></th>\n",
       "      <th></th>\n",
       "      <th>Sales</th>\n",
       "      <th>Profit</th>\n",
       "    </tr>\n",
       "    <tr>\n",
       "      <th>Category</th>\n",
       "      <th>Sub-Category</th>\n",
       "      <th></th>\n",
       "      <th></th>\n",
       "    </tr>\n",
       "  </thead>\n",
       "  <tbody>\n",
       "    <tr>\n",
       "      <th rowspan=\"5\" valign=\"top\">Office Supplies</th>\n",
       "      <th>Supplies</th>\n",
       "      <td>2037.92</td>\n",
       "      <td>-89.85</td>\n",
       "    </tr>\n",
       "    <tr>\n",
       "      <th>Labels</th>\n",
       "      <td>54.79</td>\n",
       "      <td>21.86</td>\n",
       "    </tr>\n",
       "    <tr>\n",
       "      <th>Envelopes</th>\n",
       "      <td>114.06</td>\n",
       "      <td>42.02</td>\n",
       "    </tr>\n",
       "    <tr>\n",
       "      <th>Art</th>\n",
       "      <td>904.55</td>\n",
       "      <td>191.87</td>\n",
       "    </tr>\n",
       "    <tr>\n",
       "      <th>Fasteners</th>\n",
       "      <td>513.44</td>\n",
       "      <td>246.47</td>\n",
       "    </tr>\n",
       "    <tr>\n",
       "      <th>Furniture</th>\n",
       "      <th>Furnishings</th>\n",
       "      <td>1862.26</td>\n",
       "      <td>408.24</td>\n",
       "    </tr>\n",
       "    <tr>\n",
       "      <th rowspan=\"3\" valign=\"top\">Office Supplies</th>\n",
       "      <th>Paper</th>\n",
       "      <td>1816.57</td>\n",
       "      <td>806.32</td>\n",
       "    </tr>\n",
       "    <tr>\n",
       "      <th>Storage</th>\n",
       "      <td>37592.32</td>\n",
       "      <td>4490.04</td>\n",
       "    </tr>\n",
       "    <tr>\n",
       "      <th>Binders</th>\n",
       "      <td>19751.19</td>\n",
       "      <td>7435.09</td>\n",
       "    </tr>\n",
       "    <tr>\n",
       "      <th rowspan=\"2\" valign=\"top\">Technology</th>\n",
       "      <th>Accessories</th>\n",
       "      <td>36572.17</td>\n",
       "      <td>8641.96</td>\n",
       "    </tr>\n",
       "    <tr>\n",
       "      <th>Machines</th>\n",
       "      <td>71366.87</td>\n",
       "      <td>8992.06</td>\n",
       "    </tr>\n",
       "    <tr>\n",
       "      <th rowspan=\"3\" valign=\"top\">Furniture</th>\n",
       "      <th>Tables</th>\n",
       "      <td>179292.88</td>\n",
       "      <td>13051.69</td>\n",
       "    </tr>\n",
       "    <tr>\n",
       "      <th>Chairs</th>\n",
       "      <td>179648.44</td>\n",
       "      <td>23245.88</td>\n",
       "    </tr>\n",
       "    <tr>\n",
       "      <th>Bookcases</th>\n",
       "      <td>240688.73</td>\n",
       "      <td>45483.14</td>\n",
       "    </tr>\n",
       "    <tr>\n",
       "      <th>Office Supplies</th>\n",
       "      <th>Appliances</th>\n",
       "      <td>289711.30</td>\n",
       "      <td>48518.99</td>\n",
       "    </tr>\n",
       "    <tr>\n",
       "      <th rowspan=\"2\" valign=\"top\">Technology</th>\n",
       "      <th>Copiers</th>\n",
       "      <td>231104.67</td>\n",
       "      <td>52315.19</td>\n",
       "    </tr>\n",
       "    <tr>\n",
       "      <th>Phones</th>\n",
       "      <td>417939.31</td>\n",
       "      <td>75119.47</td>\n",
       "    </tr>\n",
       "  </tbody>\n",
       "</table>\n",
       "</div>"
      ],
      "text/plain": [
       "                                  Sales    Profit\n",
       "Category        Sub-Category                     \n",
       "Office Supplies Supplies        2037.92    -89.85\n",
       "                Labels            54.79     21.86\n",
       "                Envelopes        114.06     42.02\n",
       "                Art              904.55    191.87\n",
       "                Fasteners        513.44    246.47\n",
       "Furniture       Furnishings     1862.26    408.24\n",
       "Office Supplies Paper           1816.57    806.32\n",
       "                Storage        37592.32   4490.04\n",
       "                Binders        19751.19   7435.09\n",
       "Technology      Accessories    36572.17   8641.96\n",
       "                Machines       71366.87   8992.06\n",
       "Furniture       Tables        179292.88  13051.69\n",
       "                Chairs        179648.44  23245.88\n",
       "                Bookcases     240688.73  45483.14\n",
       "Office Supplies Appliances    289711.30  48518.99\n",
       "Technology      Copiers       231104.67  52315.19\n",
       "                Phones        417939.31  75119.47"
      ]
     },
     "execution_count": 48,
     "metadata": {},
     "output_type": "execute_result"
    }
   ],
   "source": [
    "df.groupby(['Category', 'Sub-Category'])[['Sales', 'Profit']].sum().sort_values(by='Profit')"
   ]
  },
  {
   "cell_type": "code",
   "execution_count": 49,
   "id": "4aa0e3ad",
   "metadata": {},
   "outputs": [],
   "source": [
    "df.to_csv(\"salis glopal.csv\")"
   ]
  },
  {
   "cell_type": "code",
   "execution_count": 50,
   "id": "fc593e6b",
   "metadata": {},
   "outputs": [],
   "source": [
    "to_product.to_csv(\"to_product.csv\")"
   ]
  },
  {
   "cell_type": "code",
   "execution_count": 54,
   "id": "e6505d76",
   "metadata": {},
   "outputs": [],
   "source": [
    "negative_values =  df[\"Profit\"][df[\"Profit\"] < 0]"
   ]
  },
  {
   "cell_type": "code",
   "execution_count": 56,
   "id": "f48129cf",
   "metadata": {},
   "outputs": [],
   "source": [
    "negative_values.to_csv(\"negative_values.csv\")"
   ]
  },
  {
   "cell_type": "code",
   "execution_count": null,
   "id": "e19f3b69",
   "metadata": {},
   "outputs": [],
   "source": []
  }
 ],
 "metadata": {
  "kernelspec": {
   "display_name": "Python 3",
   "language": "python",
   "name": "python3"
  },
  "language_info": {
   "codemirror_mode": {
    "name": "ipython",
    "version": 3
   },
   "file_extension": ".py",
   "mimetype": "text/x-python",
   "name": "python",
   "nbconvert_exporter": "python",
   "pygments_lexer": "ipython3",
   "version": "3.11.9"
  }
 },
 "nbformat": 4,
 "nbformat_minor": 5
}
